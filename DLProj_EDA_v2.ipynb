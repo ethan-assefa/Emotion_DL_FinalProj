{
 "cells": [
  {
   "cell_type": "markdown",
   "id": "051ab3df-b174-4134-a2e3-8f187ac8cfed",
   "metadata": {},
   "source": [
    "We setup the tensorflow library to utilized the computers GPU below:"
   ]
  },
  {
   "cell_type": "code",
   "execution_count": 1,
   "id": "4200f26e-4fdc-4e97-9d83-1660d5c6037e",
   "metadata": {},
   "outputs": [],
   "source": [
    "# Import package needed\n",
    "import numpy as np # had to revert back to v1.23 in conda env\n",
    "import pandas as pd"
   ]
  },
  {
   "cell_type": "code",
   "execution_count": 2,
   "id": "81286684-dda3-43d2-ae66-29d8cc69ffa4",
   "metadata": {},
   "outputs": [],
   "source": [
    "# Brings in tensorflow\n",
    "import tensorflow as tf"
   ]
  },
  {
   "cell_type": "code",
   "execution_count": 3,
   "id": "365eaa81-2966-481f-bf32-dea4a791733f",
   "metadata": {},
   "outputs": [
    {
     "name": "stdout",
     "output_type": "stream",
     "text": [
      "[PhysicalDevice(name='/physical_device:GPU:0', device_type='GPU')]\n"
     ]
    }
   ],
   "source": [
    "# Checks that GPU avaliable\n",
    "print(tf.config.list_physical_devices('GPU'))"
   ]
  },
  {
   "cell_type": "code",
   "execution_count": 4,
   "id": "c23241e6-7f22-4aa0-b2b8-b8ec34ff474b",
   "metadata": {},
   "outputs": [
    {
     "name": "stdout",
     "output_type": "stream",
     "text": [
      "Available devices: [PhysicalDevice(name='/physical_device:CPU:0', device_type='CPU'), PhysicalDevice(name='/physical_device:GPU:0', device_type='GPU')]\n"
     ]
    }
   ],
   "source": [
    "import tensorflow as tf\n",
    "\n",
    "# List all available devices recognized by TensorFlow\n",
    "print(\"Available devices:\", tf.config.list_physical_devices())"
   ]
  },
  {
   "cell_type": "code",
   "execution_count": 5,
   "id": "51d60bf5-7a18-4ddb-af49-f9ade17b6da0",
   "metadata": {},
   "outputs": [
    {
     "name": "stdout",
     "output_type": "stream",
     "text": [
      "1 Physical GPUs, 1 Logical GPUs\n"
     ]
    }
   ],
   "source": [
    "# Specifically check for GPUs\n",
    "gpus = tf.config.list_physical_devices('GPU')\n",
    "if gpus:\n",
    "    try:\n",
    "        # Currently, memory growth needs to be the same across GPUs\n",
    "        for gpu in gpus:\n",
    "            tf.config.experimental.set_memory_growth(gpu, True)\n",
    "        logical_gpus = tf.config.experimental.list_logical_devices('GPU')\n",
    "        print(f\"{len(gpus)} Physical GPUs, {len(logical_gpus)} Logical GPUs\")\n",
    "    except RuntimeError as e:\n",
    "        # Memory growth must be set before GPUs have been initialized\n",
    "        print(e)\n",
    "else:\n",
    "    print(\"No GPU is available.\")\n"
   ]
  },
  {
   "cell_type": "markdown",
   "id": "c64d9b4e-450f-4f57-8905-74dca4a153f2",
   "metadata": {},
   "source": [
    "Here, we bring in the pytorch libraries we have been working on in class."
   ]
  },
  {
   "cell_type": "code",
   "execution_count": 6,
   "id": "a0ce0dc8-6cfd-4b2c-bbcd-77a35b7c7a63",
   "metadata": {},
   "outputs": [],
   "source": [
    "import sys\n",
    "import sklearn\n",
    "import os\n",
    "import numpy as np\n",
    "from functools import partial\n",
    "import PIL\n",
    "from PIL import Image\n",
    "\n",
    "import torch\n",
    "import torchvision\n",
    "import torch.optim as optim\n",
    "from torch.optim import lr_scheduler\n",
    "from torchvision import datasets, transforms\n",
    "from torch.utils.data import Dataset, DataLoader, random_split\n",
    "from torchvision.datasets import ImageFolder\n",
    "import torch.nn.functional as F\n",
    "import torch.nn as nn\n",
    "import copy\n",
    "\n",
    "from torch import manual_seed as torch_manual_seed\n",
    "import random\n",
    "\n",
    "from torch.cuda import max_memory_allocated, set_device, manual_seed_all\n",
    "from torch.backends import cudnn\n",
    "\n",
    "from torch import Generator\n",
    "from torchvision.transforms import ToTensor\n",
    "from torchvision.transforms.functional import to_pil_image"
   ]
  },
  {
   "cell_type": "code",
   "execution_count": 7,
   "id": "bd5e61d6-dd98-461b-9498-cfeeb57581b8",
   "metadata": {},
   "outputs": [
    {
     "name": "stdout",
     "output_type": "stream",
     "text": [
      "2.4.0.dev20240406\n",
      "Is CUDA available: True\n",
      "Available GPUs: 1\n",
      "GPU Name: NVIDIA GeForce RTX 4090\n"
     ]
    }
   ],
   "source": [
    "import torch\n",
    "\n",
    "print(torch.__version__)\n",
    "print(\"Is CUDA available:\", torch.cuda.is_available())\n",
    "print(\"Available GPUs:\", torch.cuda.device_count())\n",
    "print(\"GPU Name:\", torch.cuda.get_device_name(0) if torch.cuda.is_available() else \"CUDA is not available.\")"
   ]
  },
  {
   "cell_type": "code",
   "execution_count": 8,
   "id": "2abfe87d-47d7-4b5b-9574-754d5a232de6",
   "metadata": {},
   "outputs": [
    {
     "name": "stdout",
     "output_type": "stream",
     "text": [
      "2.4.0.dev20240406\n"
     ]
    }
   ],
   "source": [
    "print(torch.__version__)"
   ]
  },
  {
   "cell_type": "code",
   "execution_count": 9,
   "id": "6bd794e9-0f36-4b48-959b-d63a01ce45e2",
   "metadata": {},
   "outputs": [],
   "source": [
    "def setup_seed(seed):\n",
    "    torch_manual_seed(seed)\n",
    "    manual_seed_all(seed)\n",
    "    np.random.seed(seed)\n",
    "    random.seed(seed)\n",
    "    cudnn.deterministic = True\n",
    "\n",
    "SEED = 42\n",
    "setup_seed(SEED)"
   ]
  },
  {
   "cell_type": "code",
   "execution_count": 10,
   "id": "c604ada2-2e27-49b0-8872-8767f290be1a",
   "metadata": {},
   "outputs": [],
   "source": [
    "from sklearn.datasets import load_files\n",
    "\n",
    "# IMPORTANT: Depends on what pre-trained model you choose, you will need to change these dimensions accordingly\n",
    "img_height = 256\n",
    "img_width = 256"
   ]
  },
  {
   "cell_type": "code",
   "execution_count": 11,
   "id": "d092e4ae-590f-4e98-a42f-6905b41e265b",
   "metadata": {},
   "outputs": [],
   "source": [
    "# Sets path to project directory where the folder with data is contained\n",
    "dataset_path = \"C:/Users/affes/OneDrive/Documents/UVA SDS Spring 2024/DS 6050/Final Project/\"\n",
    "images_dir = os.path.join(dataset_path, 'origin/')  \n",
    "labels_file = os.path.join(dataset_path, 'label.lst')"
   ]
  },
  {
   "cell_type": "code",
   "execution_count": 12,
   "id": "80e688cb-da66-466f-8f69-88aac8ae70ad",
   "metadata": {
    "jupyter": {
     "source_hidden": true
    }
   },
   "outputs": [
    {
     "data": {
      "text/plain": [
       "\"\\nclass FaceData(Dataset):\\n    def __init__(self, images_dir, labels_file, transform=None):\\n        self.images_dir = images_dir\\n        self.transform = transform\\n        self.samples = self._load_samples(labels_file)\\n\\n    def _load_samples(self, labels_file):\\n        samples = []\\n        with open(labels_file, 'r') as f:\\n            for line in f:\\n                parts = line.strip().split()\\n                image_name, expression_label = parts[0], int(parts[-1])\\n                samples.append((image_name, expression_label))\\n        return samples\\n\\n    def __len__(self):\\n        return len(self.samples)\\n\\n    def __getitem__(self, idx):\\n        image_name, label = self.samples[idx]\\n        img_path = os.path.join(self.images_dir, image_name)\\n        image = Image.open(img_path).convert('RGB')\\n        if self.transform:\\n            image = self.transform(image)\\n        return image, label\\n\""
      ]
     },
     "execution_count": 12,
     "metadata": {},
     "output_type": "execute_result"
    }
   ],
   "source": [
    "'''\n",
    "class FaceData(Dataset):\n",
    "    def __init__(self, images_dir, labels_file, transform=None):\n",
    "        self.images_dir = images_dir\n",
    "        self.transform = transform\n",
    "        self.samples = self._load_samples(labels_file)\n",
    "\n",
    "    def _load_samples(self, labels_file):\n",
    "        samples = []\n",
    "        with open(labels_file, 'r') as f:\n",
    "            for line in f:\n",
    "                parts = line.strip().split()\n",
    "                image_name, expression_label = parts[0], int(parts[-1])\n",
    "                samples.append((image_name, expression_label))\n",
    "        return samples\n",
    "\n",
    "    def __len__(self):\n",
    "        return len(self.samples)\n",
    "\n",
    "    def __getitem__(self, idx):\n",
    "        image_name, label = self.samples[idx]\n",
    "        img_path = os.path.join(self.images_dir, image_name)\n",
    "        image = Image.open(img_path).convert('RGB')\n",
    "        if self.transform:\n",
    "            image = self.transform(image)\n",
    "        return image, label\n",
    "'''"
   ]
  },
  {
   "cell_type": "code",
   "execution_count": 13,
   "id": "799d3c02-cb06-4083-b56d-79b6c764cff7",
   "metadata": {},
   "outputs": [],
   "source": [
    "class FaceData(Dataset):\n",
    "    def __init__(self, images_dir, labels_file, transform=None, subset_size=None):\n",
    "        self.images_dir = images_dir\n",
    "        self.transform = transform\n",
    "        self.samples = self._load_samples(labels_file)\n",
    "        if subset_size:\n",
    "            self.samples = self._create_balanced_subset(subset_size)\n",
    "\n",
    "    def _load_samples(self, labels_file):\n",
    "        samples = []\n",
    "        with open(labels_file, 'r') as f:\n",
    "            for line in f:\n",
    "                parts = line.strip().split()\n",
    "                image_name, expression_label = parts[0], int(parts[-1])\n",
    "                samples.append((image_name, expression_label))\n",
    "        return samples\n",
    "\n",
    "    def _create_balanced_subset(self, subset_size):\n",
    "        # Group samples by label\n",
    "        grouped_samples = {}\n",
    "        for image_name, expression_label in self.samples:\n",
    "            if expression_label not in grouped_samples:\n",
    "                grouped_samples[expression_label] = []\n",
    "            grouped_samples[expression_label].append((image_name, expression_label))\n",
    "        \n",
    "        # Determine number of samples per label for balanced distribution\n",
    "        samples_per_label = subset_size // len(grouped_samples)\n",
    "        \n",
    "        # Randomly select samples from each group\n",
    "        balanced_subset = []\n",
    "        for label_samples in grouped_samples.values():\n",
    "            if len(label_samples) > samples_per_label:\n",
    "                balanced_subset.extend(random.sample(label_samples, samples_per_label))\n",
    "            else:  # If not enough samples for the label, take all available\n",
    "                balanced_subset.extend(label_samples)\n",
    "        \n",
    "        return balanced_subset\n",
    "\n",
    "    def __len__(self):\n",
    "        return len(self.samples)\n",
    "\n",
    "    def __getitem__(self, idx):\n",
    "        image_name, label = self.samples[idx]\n",
    "        img_path = os.path.join(self.images_dir, image_name)\n",
    "        image = Image.open(img_path).convert('RGB')\n",
    "        if self.transform:\n",
    "            image = self.transform(image)\n",
    "        return image, label"
   ]
  },
  {
   "cell_type": "code",
   "execution_count": 14,
   "id": "aa71983d-6d9c-46b9-8354-a52c768b887d",
   "metadata": {},
   "outputs": [],
   "source": [
    "# Define your transformations (preprocessing data)\n",
    "transform = transforms.Compose([\n",
    "    transforms.Resize((img_height, img_width)),  # Resize the image to 256x256 pixels\n",
    "    transforms.ToTensor(),  # Convert the image to a tensor\n",
    "    #transforms.Normalize(mean=[0.485, 0.456, 0.406], std=[0.229, 0.224, 0.225]),\n",
    "    # Normalize images (values are standard for VGG)\n",
    "])\n",
    "\n",
    "faces_dataset = FaceData(images_dir=images_dir, labels_file=labels_file, transform=transform, subset_size = 5000)"
   ]
  },
  {
   "cell_type": "code",
   "execution_count": 15,
   "id": "7bf6f318-6c35-45ee-a880-e7f3afa99f45",
   "metadata": {},
   "outputs": [
    {
     "name": "stdout",
     "output_type": "stream",
     "text": [
      "Before splitting the full dataset into train and test: len(dataset_all)=4998\n",
      "After splitting the full dataset into train and test: len(dataset_train)=3199; len(dataset_val)=800; len(dataset_test)=999\n"
     ]
    }
   ],
   "source": [
    "TEST_RATIO = 0.2\n",
    "VALIDATION_RATIO = 0.2\n",
    "\n",
    "size_all = len(faces_dataset)\n",
    "print(f'Before splitting the full dataset into train and test: len(dataset_all)={size_all}')\n",
    "\n",
    "size_test = int(size_all * TEST_RATIO)\n",
    "size_train_val = size_all - size_test\n",
    "size_train = int((1 - VALIDATION_RATIO) * size_train_val)\n",
    "size_val = size_train_val - size_train\n",
    "\n",
    "dataset_train_val, dataset_test = random_split(faces_dataset, [size_train_val, size_test], generator=Generator().manual_seed(SEED))\n",
    "\n",
    "# NOTE that you must not use the test dataset for model selection\n",
    "# Split into train and validation\n",
    "dataset_train, dataset_val = random_split(dataset_train_val, [size_train, size_val], generator=Generator().manual_seed(SEED))\n",
    "\n",
    "print(f'After splitting the full dataset into train and test: len(dataset_train)={len(dataset_train)}; len(dataset_val)={len(dataset_val)}; len(dataset_test)={len(dataset_test)}')"
   ]
  },
  {
   "cell_type": "code",
   "execution_count": 16,
   "id": "322bb523-28ed-4f98-9ea7-962156a9837b",
   "metadata": {},
   "outputs": [
    {
     "data": {
      "image/jpeg": "[encoded data removed]",
      "image/png": "[encoded data removed]",
      "text/plain": [
       "<PIL.Image.Image image mode=RGB size=256x256>"
      ]
     },
     "execution_count": 16,
     "metadata": {},
     "output_type": "execute_result"
    }
   ],
   "source": [
    "to_pil_image(faces_dataset[2][0])"
   ]
  },
  {
   "cell_type": "code",
   "execution_count": 17,
   "id": "fde7f751-cc33-434e-8770-a57393e2e7b5",
   "metadata": {},
   "outputs": [],
   "source": [
    "from time import perf_counter\n",
    "\n",
    "# Tweaked to add Gradient Accumulation; allows larger batch size without running out of memory\n",
    "def train_loop(dataloader, model, loss_fn, optimizer, accumulation_steps=4):\n",
    "    size = len(dataloader.dataset)\n",
    "    num_batches = len(dataloader)\n",
    "    # Calculate when to give update\n",
    "    update_interval = num_batches // 5\n",
    "    \n",
    "    accumulated_loss = 0.0\n",
    "    optimizer.zero_grad()  # Initialize gradient accumulation\n",
    "    \n",
    "    for batch, (X, y) in enumerate(dataloader):\n",
    "        X, y = X.to(device), y.to(device)\n",
    "        \n",
    "        # Forward pass\n",
    "        pred = model(X)\n",
    "        loss = loss_fn(pred, y) / accumulation_steps  # Scale loss\n",
    "\n",
    "        # Backward pass with accumulation\n",
    "        loss.backward()\n",
    "        accumulated_loss += loss.item()\n",
    "\n",
    "        # Perform optimization step every 'accumulation_steps' batches\n",
    "        if (batch + 1) % accumulation_steps == 0 or (batch + 1) == len(dataloader):\n",
    "            optimizer.step()\n",
    "            optimizer.zero_grad()  # Clear gradients for the next set of accumulation steps\n",
    "\n",
    "        # Adjust the condition to print based on the actual number of updates\n",
    "        if (batch + 1) // accumulation_steps % update_interval == 0:\n",
    "            # Correct accumulated_loss for reporting\n",
    "            corrected_loss = accumulated_loss * accumulation_steps\n",
    "            # Calculate the accurate 'current' progress\n",
    "            current = (batch + 1) * len(X) if (batch + 1) < len(dataloader) else size\n",
    "            print(f\"loss: {corrected_loss:>7f}  [{current:>5d}/{size:>5d}]\")\n",
    "            accumulated_loss = 0.0  # Reset accumulated loss for next reporting period\n",
    "            # Print GPU memory usage\n",
    "            print(f\"Current GPU Memory Allocated: {torch.cuda.memory_allocated(device)/1024**3:.2f} GB | Max GPU Memory Allocated: {torch.cuda.memory_reserved(device)/1024**3:.2f} GB | GPU Memory Cached: {torch.cuda.memory_reserved(device)/1024**3:.2f} GB\")\n",
    "\n",
    "    return corrected_loss\n",
    "\n",
    "def test_loop(dataloader, model, loss_fn):\n",
    "  size = len(dataloader.dataset)\n",
    "  num_batches = len(dataloader)\n",
    "  test_loss, correct = 0, 0\n",
    "\n",
    "  with torch.no_grad():\n",
    "    for X, y in dataloader:\n",
    "      X = X.to(device)\n",
    "      y = y.to(device)\n",
    "      pred = model(X)\n",
    "      test_loss += loss_fn(pred, y).item()\n",
    "      correct += (pred.argmax(1) == y).type(torch.float).sum().item()\n",
    "\n",
    "  test_loss /= num_batches\n",
    "  correct /= size\n",
    "  print(f\"Test Error: \\n Accuracy: {(100*correct):>0.1f}%, Avg loss: {test_loss:>8f} \\n\")\n",
    "  return correct"
   ]
  },
  {
   "cell_type": "code",
   "execution_count": 18,
   "id": "6614cb62-6259-4a51-97b8-b78fbda63949",
   "metadata": {},
   "outputs": [],
   "source": [
    "# Load necessary packages\n",
    "from torch.nn import Module\n",
    "device = torch.device(\"cuda:0\" if torch.cuda.is_available() else \"cpu\")\n",
    "from torchvision import datasets, models, transforms\n",
    "\n",
    "from torch.utils.data import DataLoader\n",
    "train_dataloader = DataLoader(dataset_train, batch_size=150, shuffle=True)\n",
    "val_dataloader = DataLoader(dataset_val, batch_size=150, shuffle=True)\n",
    "test_dataloader = DataLoader(dataset_test, batch_size=150, shuffle=True)\n",
    "dataloaders = {'train':train_dataloader, 'val':val_dataloader}\n",
    "dataset_sizes = {'train':len(dataset_train), 'val':len(dataset_val)}"
   ]
  },
  {
   "cell_type": "code",
   "execution_count": 19,
   "id": "13cea847-a849-4886-83a0-2c0c2c3d41bf",
   "metadata": {},
   "outputs": [],
   "source": [
    "# Create first model as VGG model that is pretrained\n",
    "class Feelings_Model(Module):\n",
    "    def __init__(self, num_classes):\n",
    "        super().__init__()\n",
    "        # Load the pretrained VGG model\n",
    "        from torchvision import datasets, models, transforms\n",
    "        self.vgg = models.vgg13_bn(weights='DEFAULT')\n",
    "\n",
    "        self.features = self.vgg.features\n",
    "        self.classifier = torch.nn.Sequential(\n",
    "            torch.nn.Dropout(p=0.5),\n",
    "            torch.nn.Conv2d(512, num_classes, kernel_size=1),\n",
    "            torch.nn.ReLU(inplace=True),\n",
    "            torch.nn.AdaptiveAvgPool2d((1, 1))\n",
    "        )\n",
    "\n",
    "        # Replace the classifier in the VGG model\n",
    "        self.vgg.classifier = self.classifier\n",
    "\n",
    "    def forward(self, X):\n",
    "        # Forward pass through the modified VGG\n",
    "        features = self.features(X)\n",
    "        output = self.vgg.classifier(features)\n",
    "        return output.squeeze()"
   ]
  },
  {
   "cell_type": "code",
   "execution_count": 20,
   "id": "b6d461a7-9351-49c1-aca5-1a317b4e75e2",
   "metadata": {
    "scrolled": true
   },
   "outputs": [
    {
     "data": {
      "text/plain": [
       "Feelings_Model(\n",
       "  (vgg): VGG(\n",
       "    (features): Sequential(\n",
       "      (0): Conv2d(3, 64, kernel_size=(3, 3), stride=(1, 1), padding=(1, 1))\n",
       "      (1): BatchNorm2d(64, eps=1e-05, momentum=0.1, affine=True, track_running_stats=True)\n",
       "      (2): ReLU(inplace=True)\n",
       "      (3): Conv2d(64, 64, kernel_size=(3, 3), stride=(1, 1), padding=(1, 1))\n",
       "      (4): BatchNorm2d(64, eps=1e-05, momentum=0.1, affine=True, track_running_stats=True)\n",
       "      (5): ReLU(inplace=True)\n",
       "      (6): MaxPool2d(kernel_size=2, stride=2, padding=0, dilation=1, ceil_mode=False)\n",
       "      (7): Conv2d(64, 128, kernel_size=(3, 3), stride=(1, 1), padding=(1, 1))\n",
       "      (8): BatchNorm2d(128, eps=1e-05, momentum=0.1, affine=True, track_running_stats=True)\n",
       "      (9): ReLU(inplace=True)\n",
       "      (10): Conv2d(128, 128, kernel_size=(3, 3), stride=(1, 1), padding=(1, 1))\n",
       "      (11): BatchNorm2d(128, eps=1e-05, momentum=0.1, affine=True, track_running_stats=True)\n",
       "      (12): ReLU(inplace=True)\n",
       "      (13): MaxPool2d(kernel_size=2, stride=2, padding=0, dilation=1, ceil_mode=False)\n",
       "      (14): Conv2d(128, 256, kernel_size=(3, 3), stride=(1, 1), padding=(1, 1))\n",
       "      (15): BatchNorm2d(256, eps=1e-05, momentum=0.1, affine=True, track_running_stats=True)\n",
       "      (16): ReLU(inplace=True)\n",
       "      (17): Conv2d(256, 256, kernel_size=(3, 3), stride=(1, 1), padding=(1, 1))\n",
       "      (18): BatchNorm2d(256, eps=1e-05, momentum=0.1, affine=True, track_running_stats=True)\n",
       "      (19): ReLU(inplace=True)\n",
       "      (20): MaxPool2d(kernel_size=2, stride=2, padding=0, dilation=1, ceil_mode=False)\n",
       "      (21): Conv2d(256, 512, kernel_size=(3, 3), stride=(1, 1), padding=(1, 1))\n",
       "      (22): BatchNorm2d(512, eps=1e-05, momentum=0.1, affine=True, track_running_stats=True)\n",
       "      (23): ReLU(inplace=True)\n",
       "      (24): Conv2d(512, 512, kernel_size=(3, 3), stride=(1, 1), padding=(1, 1))\n",
       "      (25): BatchNorm2d(512, eps=1e-05, momentum=0.1, affine=True, track_running_stats=True)\n",
       "      (26): ReLU(inplace=True)\n",
       "      (27): MaxPool2d(kernel_size=2, stride=2, padding=0, dilation=1, ceil_mode=False)\n",
       "      (28): Conv2d(512, 512, kernel_size=(3, 3), stride=(1, 1), padding=(1, 1))\n",
       "      (29): BatchNorm2d(512, eps=1e-05, momentum=0.1, affine=True, track_running_stats=True)\n",
       "      (30): ReLU(inplace=True)\n",
       "      (31): Conv2d(512, 512, kernel_size=(3, 3), stride=(1, 1), padding=(1, 1))\n",
       "      (32): BatchNorm2d(512, eps=1e-05, momentum=0.1, affine=True, track_running_stats=True)\n",
       "      (33): ReLU(inplace=True)\n",
       "      (34): MaxPool2d(kernel_size=2, stride=2, padding=0, dilation=1, ceil_mode=False)\n",
       "    )\n",
       "    (avgpool): AdaptiveAvgPool2d(output_size=(7, 7))\n",
       "    (classifier): Sequential(\n",
       "      (0): Dropout(p=0.5, inplace=False)\n",
       "      (1): Conv2d(512, 7, kernel_size=(1, 1), stride=(1, 1))\n",
       "      (2): ReLU(inplace=True)\n",
       "      (3): AdaptiveAvgPool2d(output_size=(1, 1))\n",
       "    )\n",
       "  )\n",
       "  (features): Sequential(\n",
       "    (0): Conv2d(3, 64, kernel_size=(3, 3), stride=(1, 1), padding=(1, 1))\n",
       "    (1): BatchNorm2d(64, eps=1e-05, momentum=0.1, affine=True, track_running_stats=True)\n",
       "    (2): ReLU(inplace=True)\n",
       "    (3): Conv2d(64, 64, kernel_size=(3, 3), stride=(1, 1), padding=(1, 1))\n",
       "    (4): BatchNorm2d(64, eps=1e-05, momentum=0.1, affine=True, track_running_stats=True)\n",
       "    (5): ReLU(inplace=True)\n",
       "    (6): MaxPool2d(kernel_size=2, stride=2, padding=0, dilation=1, ceil_mode=False)\n",
       "    (7): Conv2d(64, 128, kernel_size=(3, 3), stride=(1, 1), padding=(1, 1))\n",
       "    (8): BatchNorm2d(128, eps=1e-05, momentum=0.1, affine=True, track_running_stats=True)\n",
       "    (9): ReLU(inplace=True)\n",
       "    (10): Conv2d(128, 128, kernel_size=(3, 3), stride=(1, 1), padding=(1, 1))\n",
       "    (11): BatchNorm2d(128, eps=1e-05, momentum=0.1, affine=True, track_running_stats=True)\n",
       "    (12): ReLU(inplace=True)\n",
       "    (13): MaxPool2d(kernel_size=2, stride=2, padding=0, dilation=1, ceil_mode=False)\n",
       "    (14): Conv2d(128, 256, kernel_size=(3, 3), stride=(1, 1), padding=(1, 1))\n",
       "    (15): BatchNorm2d(256, eps=1e-05, momentum=0.1, affine=True, track_running_stats=True)\n",
       "    (16): ReLU(inplace=True)\n",
       "    (17): Conv2d(256, 256, kernel_size=(3, 3), stride=(1, 1), padding=(1, 1))\n",
       "    (18): BatchNorm2d(256, eps=1e-05, momentum=0.1, affine=True, track_running_stats=True)\n",
       "    (19): ReLU(inplace=True)\n",
       "    (20): MaxPool2d(kernel_size=2, stride=2, padding=0, dilation=1, ceil_mode=False)\n",
       "    (21): Conv2d(256, 512, kernel_size=(3, 3), stride=(1, 1), padding=(1, 1))\n",
       "    (22): BatchNorm2d(512, eps=1e-05, momentum=0.1, affine=True, track_running_stats=True)\n",
       "    (23): ReLU(inplace=True)\n",
       "    (24): Conv2d(512, 512, kernel_size=(3, 3), stride=(1, 1), padding=(1, 1))\n",
       "    (25): BatchNorm2d(512, eps=1e-05, momentum=0.1, affine=True, track_running_stats=True)\n",
       "    (26): ReLU(inplace=True)\n",
       "    (27): MaxPool2d(kernel_size=2, stride=2, padding=0, dilation=1, ceil_mode=False)\n",
       "    (28): Conv2d(512, 512, kernel_size=(3, 3), stride=(1, 1), padding=(1, 1))\n",
       "    (29): BatchNorm2d(512, eps=1e-05, momentum=0.1, affine=True, track_running_stats=True)\n",
       "    (30): ReLU(inplace=True)\n",
       "    (31): Conv2d(512, 512, kernel_size=(3, 3), stride=(1, 1), padding=(1, 1))\n",
       "    (32): BatchNorm2d(512, eps=1e-05, momentum=0.1, affine=True, track_running_stats=True)\n",
       "    (33): ReLU(inplace=True)\n",
       "    (34): MaxPool2d(kernel_size=2, stride=2, padding=0, dilation=1, ceil_mode=False)\n",
       "  )\n",
       "  (classifier): Sequential(\n",
       "    (0): Dropout(p=0.5, inplace=False)\n",
       "    (1): Conv2d(512, 7, kernel_size=(1, 1), stride=(1, 1))\n",
       "    (2): ReLU(inplace=True)\n",
       "    (3): AdaptiveAvgPool2d(output_size=(1, 1))\n",
       "  )\n",
       ")"
      ]
     },
     "execution_count": 20,
     "metadata": {},
     "output_type": "execute_result"
    }
   ],
   "source": [
    "# Create instance of pretrained vgg model\n",
    "FM_Vgg = Feelings_Model(num_classes=7)\n",
    "\n",
    "# Move model to appropriate device\n",
    "device = torch.device(\"cuda\" if torch.cuda.is_available() else \"cpu\")\n",
    "FM_Vgg.to(device)"
   ]
  },
  {
   "cell_type": "code",
   "execution_count": null,
   "id": "45f12201-3c48-4077-839a-9e98a5a57227",
   "metadata": {},
   "outputs": [
    {
     "name": "stdout",
     "output_type": "stream",
     "text": [
      "Epoch 1\n",
      "-------------------------------\n",
      "loss: 1.957878  [  150/ 3199]\n",
      "Current GPU Memory Allocated: 0.18 GB | Max GPU Memory Allocated: 34.27 GB | GPU Memory Cached: 34.27 GB\n",
      "loss: 1.943664  [  300/ 3199]\n",
      "Current GPU Memory Allocated: 0.18 GB | Max GPU Memory Allocated: 34.27 GB | GPU Memory Cached: 34.27 GB\n",
      "loss: 19.478700  [ 1800/ 3199]\n",
      "Current GPU Memory Allocated: 0.18 GB | Max GPU Memory Allocated: 34.27 GB | GPU Memory Cached: 34.27 GB\n",
      "loss: 1.949336  [ 1950/ 3199]\n",
      "Current GPU Memory Allocated: 0.22 GB | Max GPU Memory Allocated: 34.27 GB | GPU Memory Cached: 34.27 GB\n",
      "loss: 1.950971  [ 2100/ 3199]\n",
      "Current GPU Memory Allocated: 0.22 GB | Max GPU Memory Allocated: 34.27 GB | GPU Memory Cached: 34.27 GB\n",
      "Total run time: 4.4123 m.\n",
      "Test Error: \n",
      " Accuracy: 16.5%, Avg loss: 1.945040 \n",
      "\n",
      "Epoch 2\n",
      "-------------------------------\n",
      "loss: 1.939079  [  150/ 3199]\n",
      "Current GPU Memory Allocated: 0.22 GB | Max GPU Memory Allocated: 34.27 GB | GPU Memory Cached: 34.27 GB\n",
      "loss: 1.952131  [  300/ 3199]\n",
      "Current GPU Memory Allocated: 0.22 GB | Max GPU Memory Allocated: 34.27 GB | GPU Memory Cached: 34.27 GB\n",
      "loss: 19.471920  [ 1800/ 3199]\n",
      "Current GPU Memory Allocated: 0.18 GB | Max GPU Memory Allocated: 34.27 GB | GPU Memory Cached: 34.27 GB\n",
      "loss: 1.948514  [ 1950/ 3199]\n",
      "Current GPU Memory Allocated: 0.22 GB | Max GPU Memory Allocated: 34.27 GB | GPU Memory Cached: 34.27 GB\n",
      "loss: 1.942950  [ 2100/ 3199]\n",
      "Current GPU Memory Allocated: 0.22 GB | Max GPU Memory Allocated: 34.27 GB | GPU Memory Cached: 34.27 GB\n",
      "Total run time: 9.5342 m.\n",
      "Test Error: \n",
      " Accuracy: 15.1%, Avg loss: 1.942805 \n",
      "\n",
      "Epoch 3\n",
      "-------------------------------\n"
     ]
    }
   ],
   "source": [
    "import torch.optim as optim\n",
    "from torch.optim import lr_scheduler\n",
    "optimizer_ft = optim.SGD(FM_Vgg.parameters(), lr=0.01, momentum=0.9)\n",
    "loss_fn = nn.CrossEntropyLoss()\n",
    "epochs = 10\n",
    "num_steps = 3\n",
    "\n",
    "train_losses = []\n",
    "val_losses = []\n",
    "\n",
    "start = perf_counter() # Total time counter\n",
    "\n",
    "for t in range(epochs):\n",
    "    print(f\"Epoch {t+1}\\n-------------------------------\")\n",
    "    FM_Vgg.train()\n",
    "    train_loss = train_loop(dataloader = train_dataloader, model = FM_Vgg, loss_fn = loss_fn, optimizer = optimizer_ft, accumulation_steps=num_steps)\n",
    "    stop = perf_counter() # Finish Counter\n",
    "    # Calculates current time since start\n",
    "    print(f\"Total run time: {(stop - start)/60:0.4f} m.\")\n",
    "    FM_Vgg.eval()\n",
    "    val_loss = test_loop(val_dataloader, FM_Vgg, loss_fn)\n",
    "\n",
    "    train_losses.append(train_loss)\n",
    "    val_losses.append(val_loss)"
   ]
  },
  {
   "cell_type": "code",
   "execution_count": null,
   "id": "11404ab7-ed22-47e8-92be-7ace2ad62c61",
   "metadata": {},
   "outputs": [],
   "source": []
  }
 ],
 "metadata": {
  "kernelspec": {
   "display_name": "Python 3 (ipykernel)",
   "language": "python",
   "name": "python3"
  },
  "language_info": {
   "codemirror_mode": {
    "name": "ipython",
    "version": 3
   },
   "file_extension": ".py",
   "mimetype": "text/x-python",
   "name": "python",
   "nbconvert_exporter": "python",
   "pygments_lexer": "ipython3",
   "version": "3.9.18"
  }
 },
 "nbformat": 4,
 "nbformat_minor": 5
}
